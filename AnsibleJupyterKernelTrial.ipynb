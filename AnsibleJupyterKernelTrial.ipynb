{
 "cells": [
  {
   "cell_type": "markdown",
   "id": "3865bb9f-3eac-469e-9162-4b75c71da63b",
   "metadata": {},
   "source": [
    "# Ansible kernel for Jupyter\n",
    "\n",
    "Docs: https://github.com/ansible/ansible-jupyter-kernel\n",
    "\n",
    "Example notebooks: https://github.com/ansible/ansible-jupyter-kernel/tree/master/notebooks"
   ]
  },
  {
   "cell_type": "code",
   "execution_count": null,
   "id": "659eeee2-23de-4eb5-9055-109fde6c9f6e",
   "metadata": {},
   "outputs": [],
   "source": [
    "# exclamation commands do not invoke the shell in the ansible kernel.. :/\n",
    "!ls"
   ]
  },
  {
   "cell_type": "markdown",
   "id": "16800050-0b5c-4253-853d-334cf933f352",
   "metadata": {},
   "source": [
    "The following is a Pyhton cell. The only way you can python code. But that can be used in the ansible cells."
   ]
  },
  {
   "cell_type": "code",
   "execution_count": null,
   "id": "410f3b44-10b9-4819-a306-2c48a6c994fb",
   "metadata": {},
   "outputs": [],
   "source": [
    "#python\n",
    "x = 'Hello from Python'"
   ]
  },
  {
   "cell_type": "code",
   "execution_count": null,
   "id": "dfc176a9-7f71-42e7-9cd4-529480c0c1ae",
   "metadata": {},
   "outputs": [],
   "source": [
    "debug:\n",
    "    var: x"
   ]
  },
  {
   "cell_type": "code",
   "execution_count": null,
   "id": "0c95c2b7-5ede-43a4-a67c-85a9a39129ef",
   "metadata": {},
   "outputs": [],
   "source": [
    "#ansible.cfg\n",
    "[defaults]\n",
    "roles_path=roles"
   ]
  },
  {
   "cell_type": "code",
   "execution_count": null,
   "id": "39a1cc37-c671-4e5b-b7ba-44deac27c322",
   "metadata": {},
   "outputs": [],
   "source": [
    "#play\n",
    "hosts: localhost\n",
    "gather_facts: false\n",
    "roles:\n",
    "    - directory"
   ]
  },
  {
   "cell_type": "code",
   "execution_count": null,
   "id": "0329c6f8-4d39-4eb6-9b79-5ba03d2ee3b4",
   "metadata": {},
   "outputs": [],
   "source": []
  },
  {
   "cell_type": "code",
   "execution_count": null,
   "id": "c363d678-d543-47e4-ac74-f2a39a295fbd",
   "metadata": {},
   "outputs": [],
   "source": []
  }
 ],
 "metadata": {
  "kernelspec": {
   "display_name": "Ansible",
   "language": "ansible",
   "name": "ansible"
  },
  "language_info": {
   "codemirror_mode": "yaml",
   "file_extension": ".yml",
   "mimetype": "text/yaml",
   "name": "ansible"
  }
 },
 "nbformat": 4,
 "nbformat_minor": 5
}
